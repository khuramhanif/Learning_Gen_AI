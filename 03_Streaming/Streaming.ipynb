{
 "cells": [
  {
   "cell_type": "code",
   "execution_count": 1,
   "metadata": {},
   "outputs": [],
   "source": [
    "from openai import OpenAI\n",
    "from dotenv import load_dotenv, find_dotenv\n",
    "\n",
    "_: bool = load_dotenv(find_dotenv())\n",
    "\n",
    "client: OpenAI = OpenAI()"
   ]
  },
  {
   "cell_type": "code",
   "execution_count": 2,
   "metadata": {},
   "outputs": [
    {
     "name": "stdout",
     "output_type": "stream",
     "text": [
      "\n",
      "Mu\n",
      "hammad\n",
      " Ali\n",
      " J\n",
      "inn\n",
      "ah\n",
      " is\n",
      " considered\n",
      " the\n",
      " founding\n",
      " father\n",
      " of\n",
      " Pakistan\n",
      ".\n",
      "\n"
     ]
    }
   ],
   "source": [
    "\n",
    "\n",
    "\n",
    "def chat_completion(prompt: str) -> str:\n",
    "\n",
    "    stream = client.chat.completions.create(\n",
    "\n",
    "        model=\"gpt-3.5-turbo-1106\",\n",
    "        messages=[\n",
    "            {\"role\": \"user\",\n",
    "             \"content\": prompt}\n",
    "        ],\n",
    "        stream=True,\n",
    "    )\n",
    "\n",
    "\n",
    "    for part in stream:\n",
    "        print(part.choices[0].delta.content or \"\")\n",
    "chat_completion(\"who is the founder of pakistan?\")"
   ]
  },
  {
   "cell_type": "code",
   "execution_count": null,
   "metadata": {},
   "outputs": [],
   "source": []
  }
 ],
 "metadata": {
  "kernelspec": {
   "display_name": "Python 3",
   "language": "python",
   "name": "python3"
  },
  "language_info": {
   "codemirror_mode": {
    "name": "ipython",
    "version": 3
   },
   "file_extension": ".py",
   "mimetype": "text/x-python",
   "name": "python",
   "nbconvert_exporter": "python",
   "pygments_lexer": "ipython3",
   "version": "3.12.0"
  }
 },
 "nbformat": 4,
 "nbformat_minor": 2
}
