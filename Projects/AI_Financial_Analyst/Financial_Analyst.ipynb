{
 "cells": [
  {
   "cell_type": "code",
   "execution_count": 48,
   "metadata": {},
   "outputs": [],
   "source": [
    "from openai import OpenAI\n",
    "import json\n",
    "from dotenv import load_dotenv, find_dotenv\n",
    "import requests\n",
    "import os\n",
    "\n",
    "_ : bool = load_dotenv(find_dotenv()) # read local .env file"
   ]
  },
  {
   "cell_type": "code",
   "execution_count": 49,
   "metadata": {},
   "outputs": [],
   "source": [
    "client : OpenAI = OpenAI()"
   ]
  },
  {
   "cell_type": "code",
   "execution_count": 50,
   "metadata": {},
   "outputs": [],
   "source": [
    "key  = os.environ[\"FMP_API_KEY\"]\n",
    "def income_statement(period):\n",
    "    Url = f\"https://financialmodelingprep.com/api/v3/income-statement/0000320193?period={period}&apikey={key}\"\n",
    "    res = requests.get(Url)\n",
    "    return json.dumps(res.json())\n",
    "def cash_flow_statement(period):\n",
    "    Url = f\"https://financialmodelingprep.com/api/v3/cash-flow-statement/0000320193?period={period}&apikey={key}\"\n",
    "    res = requests.get(Url)\n",
    "    return json.dumps(res.json())"
   ]
  },
  {
   "cell_type": "code",
   "execution_count": 51,
   "metadata": {},
   "outputs": [],
   "source": [
    "import json\n",
    "from openai.types.beta import Assistant\n",
    "\n",
    "def show_json(message, obj):\n",
    "    display(message, json.loads(obj.model_dump_json()))\n",
    "\n",
    "assistant: Assistant = client.beta.assistants.create(\n",
    "  instructions=\"You are a financial assistant specialist, excel in leveraging cutting-edge technology and data-driven insights to empower individuals and businesses in achieving their financial goals with precision and efficiency.\",\n",
    "  model=\"gpt-3.5-turbo-1106\",\n",
    "  tools=[{\n",
    "      \"type\": \"function\",\n",
    "    \"function\": {\n",
    "      \"name\": \"income_statement\",\n",
    "      \"description\": \"Get the income statement quarter or annual as per parameter or desire query\",\n",
    "      \"parameters\": {\n",
    "        \"type\": \"object\",\n",
    "        \"properties\": {\n",
    "          \"period\": {\"type\": \"string\", \"description\": \"income statement quarter or annual\"},\n",
    "        },\n",
    "        \"required\": [\"period\"]\n",
    "      }\n",
    "    }\n",
    "  },{\n",
    "      \"type\": \"function\",\n",
    "    \"function\": {\n",
    "      \"name\": \"cash-flow-statement\",\n",
    "      \"description\": \"Get the income statement quarter or annual as per parameter or desire query\",\n",
    "      \"parameters\": {\n",
    "        \"type\": \"object\",\n",
    "        \"properties\": {\n",
    "          \"period\": {\"type\": \"string\", \"description\": \"cash-flow-statement quarter or annual\"},\n",
    "        },\n",
    "        \"required\": [\"period\"]\n",
    "      }\n",
    "    }\n",
    "  }\n",
    "  ])"
   ]
  },
  {
   "cell_type": "code",
   "execution_count": 52,
   "metadata": {},
   "outputs": [
    {
     "name": "stdout",
     "output_type": "stream",
     "text": [
      "Thread(id='thread_4LBoDHaqCKK5ijOlfgTZjiaV', created_at=1708954614, metadata={}, object='thread')\n"
     ]
    }
   ],
   "source": [
    "thread = client.beta.threads.create()\n",
    "print(thread)"
   ]
  },
  {
   "cell_type": "code",
   "execution_count": 53,
   "metadata": {},
   "outputs": [
    {
     "data": {
      "text/plain": [
       "{'id': 'msg_8rAVLWRAx7OnbNzh9lqIsqIQ',\n",
       " 'assistant_id': None,\n",
       " 'content': [MessageContentText(text=Text(annotations=[], value='Kindly show annual income statement and annually cash flow statement'), type='text')],\n",
       " 'created_at': 1708954614,\n",
       " 'file_ids': [],\n",
       " 'metadata': {},\n",
       " 'object': 'thread.message',\n",
       " 'role': 'user',\n",
       " 'run_id': None,\n",
       " 'thread_id': 'thread_4LBoDHaqCKK5ijOlfgTZjiaV'}"
      ]
     },
     "execution_count": 53,
     "metadata": {},
     "output_type": "execute_result"
    }
   ],
   "source": [
    "message = client.beta.threads.messages.create(\n",
    "    thread_id=thread.id,\n",
    "    role = \"user\",\n",
    "    content=\"Kindly show annual income statement and annually cash flow statement\"\n",
    ")\n",
    "dict(message)"
   ]
  },
  {
   "cell_type": "code",
   "execution_count": 54,
   "metadata": {},
   "outputs": [
    {
     "data": {
      "text/plain": [
       "{'id': 'run_pZ4fj9vjX7DHAVwpHRmnsnZX',\n",
       " 'assistant_id': 'asst_JItrjGxn75vf1yoqWyBWDzby',\n",
       " 'cancelled_at': None,\n",
       " 'completed_at': None,\n",
       " 'created_at': 1708954615,\n",
       " 'expires_at': 1708955215,\n",
       " 'failed_at': None,\n",
       " 'file_ids': [],\n",
       " 'instructions': 'You are a financial assistant specialist, excel in leveraging cutting-edge technology and data-driven insights to empower individuals and businesses in achieving their financial goals with precision and efficiency.',\n",
       " 'last_error': None,\n",
       " 'metadata': {},\n",
       " 'model': 'gpt-3.5-turbo-1106',\n",
       " 'object': 'thread.run',\n",
       " 'required_action': None,\n",
       " 'started_at': None,\n",
       " 'status': 'queued',\n",
       " 'thread_id': 'thread_4LBoDHaqCKK5ijOlfgTZjiaV',\n",
       " 'tools': [ToolAssistantToolsFunction(function=FunctionDefinition(name='income_statement', parameters={'type': 'object', 'properties': {'period': {'type': 'string', 'description': 'income statement quarter or annual'}}, 'required': ['period']}, description='Get the income statement quarter or annual as per parameter or desire query'), type='function'),\n",
       "  ToolAssistantToolsFunction(function=FunctionDefinition(name='cash-flow-statement', parameters={'type': 'object', 'properties': {'period': {'type': 'string', 'description': 'cash-flow-statement quarter or annual'}}, 'required': ['period']}, description='Get the income statement quarter or annual as per parameter or desire query'), type='function')],\n",
       " 'usage': None}"
      ]
     },
     "execution_count": 54,
     "metadata": {},
     "output_type": "execute_result"
    }
   ],
   "source": [
    "run = client.beta.threads.runs.create(\n",
    "    thread_id=thread.id,\n",
    "    assistant_id=assistant.id\n",
    ")\n",
    "dict(run)"
   ]
  },
  {
   "cell_type": "code",
   "execution_count": 55,
   "metadata": {},
   "outputs": [],
   "source": [
    "available_functions = {\n",
    "    \"income_statement\":income_statement,\n",
    "    \"cash-flow-statement\":cash_flow_statement\n",
    "}"
   ]
  },
  {
   "cell_type": "code",
   "execution_count": 56,
   "metadata": {},
   "outputs": [
    {
     "name": "stdout",
     "output_type": "stream",
     "text": [
      "in_progress .....\n",
      "Run is queued. Waiting...\n",
      "requires_action .....\n",
      "requires_action .....\n",
      "Status:  requires_action\n"
     ]
    },
    {
     "data": {
      "text/plain": [
       "'submit_tool_outputs'"
      ]
     },
     "metadata": {},
     "output_type": "display_data"
    },
    {
     "data": {
      "text/plain": [
       "{'submit_tool_outputs': {'tool_calls': [{'id': 'call_2dTLGBekgh9YgUIsayxgaB6m',\n",
       "    'function': {'arguments': '{\"period\": \"annual\"}',\n",
       "     'name': 'income_statement'},\n",
       "    'type': 'function'},\n",
       "   {'id': 'call_4OEqtdEC7IDeX9asuEgyMkNo',\n",
       "    'function': {'arguments': '{\"period\": \"annual\"}',\n",
       "     'name': 'cash-flow-statement'},\n",
       "    'type': 'function'}]},\n",
       " 'type': 'submit_tool_outputs'}"
      ]
     },
     "metadata": {},
     "output_type": "display_data"
    },
    {
     "name": "stdout",
     "output_type": "stream",
     "text": [
      "toolCalls present:\n",
      "[{'tool_call_id': 'call_2dTLGBekgh9YgUIsayxgaB6m', 'output': '[{\"date\": \"2023-09-30\", \"symbol\": \"AAPL\", \"reportedCurrency\": \"USD\", \"cik\": \"0000320193\", \"fillingDate\": \"2023-11-03\", \"acceptedDate\": \"2023-11-02 18:08:27\", \"calendarYear\": \"2023\", \"period\": \"FY\", \"revenue\": 383285000000, \"costOfRevenue\": 214137000000, \"grossProfit\": 169148000000, \"grossProfitRatio\": 0.4413112958, \"researchAndDevelopmentExpenses\": 29915000000, \"generalAndAdministrativeExpenses\": 0, \"sellingAndMarketingExpenses\": 0, \"sellingGeneralAndAdministrativeExpenses\": 24932000000, \"otherExpenses\": -565000000, \"operatingExpenses\": 54847000000, \"costAndExpenses\": 268984000000, \"interestIncome\": 3750000000, \"interestExpense\": 3933000000, \"depreciationAndAmortization\": 11519000000, \"ebitda\": 125820000000, \"ebitdaratio\": 0.3282674772, \"operatingIncome\": 114301000000, \"operatingIncomeRatio\": 0.2982141227, \"totalOtherIncomeExpensesNet\": -565000000, \"incomeBeforeTax\": 113736000000, \"incomeBeforeTaxRatio\": 0.2967400237, \"incomeTaxExpense\": 16741000000, \"netIncome\": 96995000000, \"netIncomeRatio\": 0.2530623426, \"eps\": 6.16, \"epsdiluted\": 6.13, \"weightedAverageShsOut\": 15744231000, \"weightedAverageShsOutDil\": 15812547000, \"link\": \"https://www.sec.gov/Archives/edgar/data/320193/000032019323000106/0000320193-23-000106-index.htm\", \"finalLink\": \"https://www.sec.gov/Archives/edgar/data/320193/000032019323000106/aapl-20230930.htm\"}, {\"date\": \"2022-09-24\", \"symbol\": \"AAPL\", \"reportedCurrency\": \"USD\", \"cik\": \"0000320193\", \"fillingDate\": \"2022-10-28\", \"acceptedDate\": \"2022-10-27 18:01:14\", \"calendarYear\": \"2022\", \"period\": \"FY\", \"revenue\": 394328000000, \"costOfRevenue\": 223546000000, \"grossProfit\": 170782000000, \"grossProfitRatio\": 0.4330963056, \"researchAndDevelopmentExpenses\": 26251000000, \"generalAndAdministrativeExpenses\": 0, \"sellingAndMarketingExpenses\": 0, \"sellingGeneralAndAdministrativeExpenses\": 25094000000, \"otherExpenses\": -334000000, \"operatingExpenses\": 51345000000, \"costAndExpenses\": 274891000000, \"interestIncome\": 2825000000, \"interestExpense\": 2931000000, \"depreciationAndAmortization\": 11104000000, \"ebitda\": 130541000000, \"ebitdaratio\": 0.3310467428, \"operatingIncome\": 119437000000, \"operatingIncomeRatio\": 0.302887444, \"totalOtherIncomeExpensesNet\": -334000000, \"incomeBeforeTax\": 119103000000, \"incomeBeforeTaxRatio\": 0.3020404333, \"incomeTaxExpense\": 19300000000, \"netIncome\": 99803000000, \"netIncomeRatio\": 0.2530964071, \"eps\": 6.15, \"epsdiluted\": 6.11, \"weightedAverageShsOut\": 16215963000, \"weightedAverageShsOutDil\": 16325819000, \"link\": \"https://www.sec.gov/Archives/edgar/data/320193/000032019322000108/0000320193-22-000108-index.htm\", \"finalLink\": \"https://www.sec.gov/Archives/edgar/data/320193/000032019322000108/aapl-20220924.htm\"}, {\"date\": \"2021-09-25\", \"symbol\": \"AAPL\", \"reportedCurrency\": \"USD\", \"cik\": \"0000320193\", \"fillingDate\": \"2021-10-29\", \"acceptedDate\": \"2021-10-28 18:04:28\", \"calendarYear\": \"2021\", \"period\": \"FY\", \"revenue\": 365817000000, \"costOfRevenue\": 212981000000, \"grossProfit\": 152836000000, \"grossProfitRatio\": 0.4177935963, \"researchAndDevelopmentExpenses\": 21914000000, \"generalAndAdministrativeExpenses\": 0, \"sellingAndMarketingExpenses\": 0, \"sellingGeneralAndAdministrativeExpenses\": 21973000000, \"otherExpenses\": 258000000, \"operatingExpenses\": 43887000000, \"costAndExpenses\": 256868000000, \"interestIncome\": 2843000000, \"interestExpense\": 2645000000, \"depreciationAndAmortization\": 11284000000, \"ebitda\": 120233000000, \"ebitdaratio\": 0.3286697994, \"operatingIncome\": 108949000000, \"operatingIncomeRatio\": 0.2978237753, \"totalOtherIncomeExpensesNet\": 258000000, \"incomeBeforeTax\": 109207000000, \"incomeBeforeTaxRatio\": 0.2985290459, \"incomeTaxExpense\": 14527000000, \"netIncome\": 94680000000, \"netIncomeRatio\": 0.2588179336, \"eps\": 5.67, \"epsdiluted\": 5.61, \"weightedAverageShsOut\": 16701272000, \"weightedAverageShsOutDil\": 16864919000, \"link\": \"https://www.sec.gov/Archives/edgar/data/320193/000032019321000105/0000320193-21-000105-index.htm\", \"finalLink\": \"https://www.sec.gov/Archives/edgar/data/320193/000032019321000105/aapl-20210925.htm\"}, {\"date\": \"2020-09-26\", \"symbol\": \"AAPL\", \"reportedCurrency\": \"USD\", \"cik\": \"0000320193\", \"fillingDate\": \"2020-10-30\", \"acceptedDate\": \"2020-10-29 18:06:25\", \"calendarYear\": \"2020\", \"period\": \"FY\", \"revenue\": 274515000000, \"costOfRevenue\": 169559000000, \"grossProfit\": 104956000000, \"grossProfitRatio\": 0.3823324773, \"researchAndDevelopmentExpenses\": 18752000000, \"generalAndAdministrativeExpenses\": 0, \"sellingAndMarketingExpenses\": 0, \"sellingGeneralAndAdministrativeExpenses\": 19916000000, \"otherExpenses\": 803000000, \"operatingExpenses\": 38668000000, \"costAndExpenses\": 208227000000, \"interestIncome\": 3763000000, \"interestExpense\": 2873000000, \"depreciationAndAmortization\": 11056000000, \"ebitda\": 77344000000, \"ebitdaratio\": 0.2817478098, \"operatingIncome\": 66288000000, \"operatingIncomeRatio\": 0.2414731435, \"totalOtherIncomeExpensesNet\": 803000000, \"incomeBeforeTax\": 67091000000, \"incomeBeforeTaxRatio\": 0.2443983025, \"incomeTaxExpense\": 9680000000, \"netIncome\": 57411000000, \"netIncomeRatio\": 0.2091361128, \"eps\": 3.31, \"epsdiluted\": 3.28, \"weightedAverageShsOut\": 17352119000, \"weightedAverageShsOutDil\": 17528214000, \"link\": \"https://www.sec.gov/Archives/edgar/data/320193/000032019320000096/0000320193-20-000096-index.htm\", \"finalLink\": \"https://www.sec.gov/Archives/edgar/data/320193/000032019320000096/aapl-20200926.htm\"}, {\"date\": \"2019-09-28\", \"symbol\": \"AAPL\", \"reportedCurrency\": \"USD\", \"cik\": \"0000320193\", \"fillingDate\": \"2019-10-31\", \"acceptedDate\": \"2019-10-30 18:12:36\", \"calendarYear\": \"2019\", \"period\": \"FY\", \"revenue\": 260174000000, \"costOfRevenue\": 161782000000, \"grossProfit\": 98392000000, \"grossProfitRatio\": 0.3781776811, \"researchAndDevelopmentExpenses\": 16217000000, \"generalAndAdministrativeExpenses\": 0, \"sellingAndMarketingExpenses\": 0, \"sellingGeneralAndAdministrativeExpenses\": 18245000000, \"otherExpenses\": 1807000000, \"operatingExpenses\": 34462000000, \"costAndExpenses\": 196244000000, \"interestIncome\": 4961000000, \"interestExpense\": 3576000000, \"depreciationAndAmortization\": 12547000000, \"ebitda\": 76477000000, \"ebitdaratio\": 0.2939455903, \"operatingIncome\": 63930000000, \"operatingIncomeRatio\": 0.2457201719, \"totalOtherIncomeExpensesNet\": 1807000000, \"incomeBeforeTax\": 65737000000, \"incomeBeforeTaxRatio\": 0.2526655238, \"incomeTaxExpense\": 10481000000, \"netIncome\": 55256000000, \"netIncomeRatio\": 0.2123809451, \"eps\": 2.99, \"epsdiluted\": 2.97, \"weightedAverageShsOut\": 18471336000, \"weightedAverageShsOutDil\": 18595652000, \"link\": \"https://www.sec.gov/Archives/edgar/data/320193/000032019319000119/0000320193-19-000119-index.htm\", \"finalLink\": \"https://www.sec.gov/Archives/edgar/data/320193/000032019319000119/a10-k20199282019.htm\"}]'}, {'tool_call_id': 'call_4OEqtdEC7IDeX9asuEgyMkNo', 'output': '[{\"date\": \"2023-09-30\", \"symbol\": \"AAPL\", \"reportedCurrency\": \"USD\", \"cik\": \"0000320193\", \"fillingDate\": \"2023-11-03\", \"acceptedDate\": \"2023-11-02 18:08:27\", \"calendarYear\": \"2023\", \"period\": \"FY\", \"netIncome\": 96995000000, \"depreciationAndAmortization\": 11519000000, \"deferredIncomeTax\": 5195000000, \"stockBasedCompensation\": 10833000000, \"changeInWorkingCapital\": -6577000000, \"accountsReceivables\": -1688000000, \"inventory\": -1618000000, \"accountsPayables\": -1889000000, \"otherWorkingCapital\": 5195000000, \"otherNonCashItems\": -7422000000, \"netCashProvidedByOperatingActivities\": 110543000000, \"investmentsInPropertyPlantAndEquipment\": -10959000000, \"acquisitionsNet\": 0, \"purchasesOfInvestments\": -29513000000, \"salesMaturitiesOfInvestments\": 45514000000, \"otherInvestingActivites\": -1337000000, \"netCashUsedForInvestingActivites\": 3705000000, \"debtRepayment\": -11151000000, \"commonStockIssued\": 1250000000, \"commonStockRepurchased\": -77550000000, \"dividendsPaid\": -15025000000, \"otherFinancingActivites\": -6012000000, \"netCashUsedProvidedByFinancingActivities\": -108488000000, \"effectOfForexChangesOnCash\": 0, \"netChangeInCash\": 5760000000, \"cashAtEndOfPeriod\": 30737000000, \"cashAtBeginningOfPeriod\": 24977000000, \"operatingCashFlow\": 110543000000, \"capitalExpenditure\": -10959000000, \"freeCashFlow\": 99584000000, \"link\": \"https://www.sec.gov/Archives/edgar/data/320193/000032019323000106/0000320193-23-000106-index.htm\", \"finalLink\": \"https://www.sec.gov/Archives/edgar/data/320193/000032019323000106/aapl-20230930.htm\"}, {\"date\": \"2022-09-24\", \"symbol\": \"AAPL\", \"reportedCurrency\": \"USD\", \"cik\": \"0000320193\", \"fillingDate\": \"2022-10-28\", \"acceptedDate\": \"2022-10-27 18:01:14\", \"calendarYear\": \"2022\", \"period\": \"FY\", \"netIncome\": 99803000000, \"depreciationAndAmortization\": 11104000000, \"deferredIncomeTax\": 895000000, \"stockBasedCompensation\": 9038000000, \"changeInWorkingCapital\": 1200000000, \"accountsReceivables\": -1823000000, \"inventory\": 1484000000, \"accountsPayables\": 9448000000, \"otherWorkingCapital\": -7909000000, \"otherNonCashItems\": 111000000, \"netCashProvidedByOperatingActivities\": 122151000000, \"investmentsInPropertyPlantAndEquipment\": -10708000000, \"acquisitionsNet\": -306000000, \"purchasesOfInvestments\": -76923000000, \"salesMaturitiesOfInvestments\": 67363000000, \"otherInvestingActivites\": -1780000000, \"netCashUsedForInvestingActivites\": -22354000000, \"debtRepayment\": -9543000000, \"commonStockIssued\": 0, \"commonStockRepurchased\": -89402000000, \"dividendsPaid\": -14841000000, \"otherFinancingActivites\": 3037000000, \"netCashUsedProvidedByFinancingActivities\": -110749000000, \"effectOfForexChangesOnCash\": 0, \"netChangeInCash\": -10952000000, \"cashAtEndOfPeriod\": 24977000000, \"cashAtBeginningOfPeriod\": 35929000000, \"operatingCashFlow\": 122151000000, \"capitalExpenditure\": -10708000000, \"freeCashFlow\": 111443000000, \"link\": \"https://www.sec.gov/Archives/edgar/data/320193/000032019322000108/0000320193-22-000108-index.htm\", \"finalLink\": \"https://www.sec.gov/Archives/edgar/data/320193/000032019322000108/aapl-20220924.htm\"}, {\"date\": \"2021-09-25\", \"symbol\": \"AAPL\", \"reportedCurrency\": \"USD\", \"cik\": \"0000320193\", \"fillingDate\": \"2021-10-29\", \"acceptedDate\": \"2021-10-28 18:04:28\", \"calendarYear\": \"2021\", \"period\": \"FY\", \"netIncome\": 94680000000, \"depreciationAndAmortization\": 11284000000, \"deferredIncomeTax\": -4774000000, \"stockBasedCompensation\": 7906000000, \"changeInWorkingCapital\": -4911000000, \"accountsReceivables\": -10125000000, \"inventory\": -2642000000, \"accountsPayables\": 12326000000, \"otherWorkingCapital\": -4470000000, \"otherNonCashItems\": -147000000, \"netCashProvidedByOperatingActivities\": 104038000000, \"investmentsInPropertyPlantAndEquipment\": -11085000000, \"acquisitionsNet\": -33000000, \"purchasesOfInvestments\": -109558000000, \"salesMaturitiesOfInvestments\": 106483000000, \"otherInvestingActivites\": -352000000, \"netCashUsedForInvestingActivites\": -14545000000, \"debtRepayment\": -8750000000, \"commonStockIssued\": 1105000000, \"commonStockRepurchased\": -85971000000, \"dividendsPaid\": -14467000000, \"otherFinancingActivites\": 14730000000, \"netCashUsedProvidedByFinancingActivities\": -93353000000, \"effectOfForexChangesOnCash\": 0, \"netChangeInCash\": -3860000000, \"cashAtEndOfPeriod\": 35929000000, \"cashAtBeginningOfPeriod\": 39789000000, \"operatingCashFlow\": 104038000000, \"capitalExpenditure\": -11085000000, \"freeCashFlow\": 92953000000, \"link\": \"https://www.sec.gov/Archives/edgar/data/320193/000032019321000105/0000320193-21-000105-index.htm\", \"finalLink\": \"https://www.sec.gov/Archives/edgar/data/320193/000032019321000105/aapl-20210925.htm\"}, {\"date\": \"2020-09-26\", \"symbol\": \"AAPL\", \"reportedCurrency\": \"USD\", \"cik\": \"0000320193\", \"fillingDate\": \"2020-10-30\", \"acceptedDate\": \"2020-10-29 18:06:25\", \"calendarYear\": \"2020\", \"period\": \"FY\", \"netIncome\": 57411000000, \"depreciationAndAmortization\": 11056000000, \"deferredIncomeTax\": -215000000, \"stockBasedCompensation\": 6829000000, \"changeInWorkingCapital\": 5690000000, \"accountsReceivables\": 6917000000, \"inventory\": -127000000, \"accountsPayables\": -4062000000, \"otherWorkingCapital\": 2962000000, \"otherNonCashItems\": -97000000, \"netCashProvidedByOperatingActivities\": 80674000000, \"investmentsInPropertyPlantAndEquipment\": -7309000000, \"acquisitionsNet\": -1524000000, \"purchasesOfInvestments\": -115148000000, \"salesMaturitiesOfInvestments\": 120483000000, \"otherInvestingActivites\": -791000000, \"netCashUsedForInvestingActivites\": -4289000000, \"debtRepayment\": -13592000000, \"commonStockIssued\": 880000000, \"commonStockRepurchased\": -72358000000, \"dividendsPaid\": -14081000000, \"otherFinancingActivites\": 12331000000, \"netCashUsedProvidedByFinancingActivities\": -86820000000, \"effectOfForexChangesOnCash\": 0, \"netChangeInCash\": -10435000000, \"cashAtEndOfPeriod\": 39789000000, \"cashAtBeginningOfPeriod\": 50224000000, \"operatingCashFlow\": 80674000000, \"capitalExpenditure\": -7309000000, \"freeCashFlow\": 73365000000, \"link\": \"https://www.sec.gov/Archives/edgar/data/320193/000032019320000096/0000320193-20-000096-index.htm\", \"finalLink\": \"https://www.sec.gov/Archives/edgar/data/320193/000032019320000096/aapl-20200926.htm\"}, {\"date\": \"2019-09-28\", \"symbol\": \"AAPL\", \"reportedCurrency\": \"USD\", \"cik\": \"0000320193\", \"fillingDate\": \"2019-10-31\", \"acceptedDate\": \"2019-10-30 18:12:36\", \"calendarYear\": \"2019\", \"period\": \"FY\", \"netIncome\": 55256000000, \"depreciationAndAmortization\": 12547000000, \"deferredIncomeTax\": -340000000, \"stockBasedCompensation\": 6068000000, \"changeInWorkingCapital\": -3488000000, \"accountsReceivables\": 245000000, \"inventory\": -289000000, \"accountsPayables\": -1923000000, \"otherWorkingCapital\": -1521000000, \"otherNonCashItems\": -652000000, \"netCashProvidedByOperatingActivities\": 69391000000, \"investmentsInPropertyPlantAndEquipment\": -10495000000, \"acquisitionsNet\": -624000000, \"purchasesOfInvestments\": -40631000000, \"salesMaturitiesOfInvestments\": 98724000000, \"otherInvestingActivites\": -1078000000, \"netCashUsedForInvestingActivites\": 45896000000, \"debtRepayment\": -8805000000, \"commonStockIssued\": 781000000, \"commonStockRepurchased\": -66897000000, \"dividendsPaid\": -14119000000, \"otherFinancingActivites\": -1936000000, \"netCashUsedProvidedByFinancingActivities\": -90976000000, \"effectOfForexChangesOnCash\": 0, \"netChangeInCash\": 24311000000, \"cashAtEndOfPeriod\": 50224000000, \"cashAtBeginningOfPeriod\": 25913000000, \"operatingCashFlow\": 69391000000, \"capitalExpenditure\": -10495000000, \"freeCashFlow\": 58896000000, \"link\": \"https://www.sec.gov/Archives/edgar/data/320193/000032019319000119/0000320193-19-000119-index.htm\", \"finalLink\": \"https://www.sec.gov/Archives/edgar/data/320193/000032019319000119/a10-k20199282019.htm\"}]'}] >>>>>\n",
      "in_progress .....\n",
      "Run is queued. Waiting...\n",
      "in_progress .....\n",
      "Run is queued. Waiting...\n",
      "completed .....\n",
      "completed...........logic\n",
      "Assistant: Here are the annual income statement and cash flow statement for Apple Inc.:\n",
      "\n",
      "### Annual Income Statement\n",
      "- **Year 2019:**\n",
      "  - Revenue: $260,174,000,000\n",
      "  - Net Income: $55,256,000,000\n",
      "- **Year 2020:**\n",
      "  - Revenue: $274,515,000,000\n",
      "  - Net Income: $57,411,000,000\n",
      "- **Year 2021:**\n",
      "  - Revenue: $365,817,000,000\n",
      "  - Net Income: $94,680,000,000\n",
      "- **Year 2022:**\n",
      "  - Revenue: $394,328,000,000\n",
      "  - Net Income: $99,803,000,000\n",
      "- **Year 2023:**\n",
      "  - Revenue: $383,285,000,000\n",
      "  - Net Income: $96,995,000,000\n",
      "\n",
      "### Annual Cash Flow Statement\n",
      "- **Year 2019:**\n",
      "  - Operating Cash Flow: $69,391,000,000\n",
      "  - Free Cash Flow: $58,896,000,000\n",
      "- **Year 2020:**\n",
      "  - Operating Cash Flow: $80,674,000,000\n",
      "  - Free Cash Flow: $73,365,000,000\n",
      "- **Year 2021:**\n",
      "  - Operating Cash Flow: $104,038,000,000\n",
      "  - Free Cash Flow: $92,953,000,000\n",
      "- **Year 2022:**\n",
      "  - Operating Cash Flow: $122,151,000,000\n",
      "  - Free Cash Flow: $111,443,000,000\n",
      "- **Year 2023:**\n",
      "  - Operating Cash Flow: $110,543,000,000\n",
      "  - Free Cash Flow: $99,584,000,000\n",
      "\n",
      "If you need more details or further analysis, feel free to ask!\n",
      "\n",
      "User: Kindly show annual income statement and annually cash flow statement\n",
      "\n"
     ]
    }
   ],
   "source": [
    "import time\n",
    "\n",
    "  # Loop until the run completes or requires action\n",
    "while True:\n",
    "    runStatus = client.beta.threads.runs.retrieve(thread_id=thread.id,\n",
    "                                                  run_id=run.id)\n",
    "    # Add run steps retrieval here for debuging\n",
    "    run_steps = client.beta.threads.runs.steps.list(thread_id=thread.id, run_id=run.id)\n",
    "    # show_json(\"Run Steps:\", run_steps)\n",
    "    print(runStatus.status ,'.....')\n",
    "\n",
    "    # This means run is making a function call   \n",
    "    if runStatus.status == \"requires_action\":\n",
    "        print(runStatus.status ,'.....')\n",
    "        print(\"Status: \", \"requires_action\")\n",
    "        show_json(\"submit_tool_outputs\", runStatus.required_action)\n",
    "        if runStatus.required_action.submit_tool_outputs and runStatus.required_action.submit_tool_outputs.tool_calls:\n",
    "            print(\"toolCalls present:\")\n",
    "            toolCalls = runStatus.required_action.submit_tool_outputs.tool_calls\n",
    "\n",
    "            tool_outputs = []\n",
    "            for toolcall in toolCalls:\n",
    "                function_name = toolcall.function.name\n",
    "                function_args = json.loads(toolcall.function.arguments)\n",
    "                \n",
    "                if function_name in available_functions:\n",
    "                    \n",
    "                    \n",
    "                    function_to_call = available_functions[function_name]\n",
    "                    response = function_to_call(**function_args )\n",
    "                        \n",
    "                        \n",
    "                    tool_outputs.append({\n",
    "                        \"tool_call_id\": toolcall.id,\n",
    "                        \"output\": response\n",
    "                              })\n",
    "                   \n",
    "                   \n",
    "            print(tool_outputs,\">>>>>\") \n",
    "            # Submit tool outputs and update the run\n",
    "            client.beta.threads.runs.submit_tool_outputs(\n",
    "                thread_id=thread.id,\n",
    "                run_id=run.id,\n",
    "                tool_outputs=tool_outputs)\n",
    "      \n",
    "    elif runStatus.status == \"completed\":\n",
    "        # List the messages to get the response\n",
    "        print(\"completed...........logic\")\n",
    "        messages= client.beta.threads.messages.list(thread_id=thread.id)\n",
    "        for message in messages.data:\n",
    "            role_label = \"User\" if message.role == \"user\" else \"Assistant\"\n",
    "            message_content = message.content[0].text.value\n",
    "            print(f\"{role_label}: {message_content}\\n\")\n",
    "        break  # Exit the loop after processing the completed run\n",
    "\n",
    "    elif run.status == \"failed\":\n",
    "      print(\"Run failed.\")\n",
    "      break\n",
    "\n",
    "    elif run.status in [\"in_progress\", \"queued\"]:\n",
    "      print(f\"Run is {run.status}. Waiting...\")\n",
    "      time.sleep(5)  # Wait for 5 seconds before checking again\n",
    "\n",
    "    else:\n",
    "      print(f\"Unexpected status: {run.status}\")\n",
    "      break"
   ]
  },
  {
   "cell_type": "code",
   "execution_count": null,
   "metadata": {},
   "outputs": [],
   "source": []
  }
 ],
 "metadata": {
  "kernelspec": {
   "display_name": "Python 3",
   "language": "python",
   "name": "python3"
  },
  "language_info": {
   "codemirror_mode": {
    "name": "ipython",
    "version": 3
   },
   "file_extension": ".py",
   "mimetype": "text/x-python",
   "name": "python",
   "nbconvert_exporter": "python",
   "pygments_lexer": "ipython3",
   "version": "3.12.0"
  }
 },
 "nbformat": 4,
 "nbformat_minor": 2
}
