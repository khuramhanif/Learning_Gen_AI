{
 "cells": [
  {
   "cell_type": "code",
   "execution_count": 1,
   "metadata": {},
   "outputs": [],
   "source": [
    "from openai import OpenAI\n",
    "from dotenv import load_dotenv , find_dotenv\n",
    "\n",
    "_:bool = load_dotenv(find_dotenv())\n",
    "\n",
    "client:OpenAI = OpenAI()"
   ]
  },
  {
   "cell_type": "code",
   "execution_count": 4,
   "metadata": {},
   "outputs": [
    {
     "name": "stdout",
     "output_type": "stream",
     "text": [
      "In the realm of code, there lies a notion,\n",
      "A concept of power, a spell of emotion.\n",
      "It's called recursion, a mystic loop,\n",
      "A magical dance, a coding coup.\n",
      "\n",
      "It starts with a call to itself, oh so sly,\n",
      "Like a mirror reflecting an endless sky.\n",
      "A function that looks within its own embrace,\n",
      "Unraveling mysteries with elegance and grace.\n",
      "\n",
      "Like a Russian doll, nested and fine,\n",
      "It burrows deeper, in an endless line.\n",
      "Each iteration, a step in the chain,\n",
      "A journey of wonder, a loop that won't wane.\n",
      "\n",
      "In the world of programming, it's a wondrous sight,\n",
      "A self-referential dance, a mesmerizing flight.\n",
      "It unlocks patterns, unravels the maze,\n",
      "Recursion, the muse of the coder's craze.\n",
      "\n",
      "So embrace the recursive, with wonder and awe,\n",
      "For in the world of coding, it's a beauty to draw.\n",
      "A loop within itself, a cycle profound,\n",
      "Recursion, the magic that makes the code resound.\n"
     ]
    }
   ],
   "source": [
    "from openai.types.chat.chat_completion import ChatCompletion\n",
    "\n",
    "def chat_completion()-> str:\n",
    " response : ChatCompletion = client.chat.completions.create(\n",
    "        messages= [\n",
    "      {\"role\": \"system\", \"content\": \"You are a poetic assistant, skilled in explaining complex programming concepts with creative flair.\"},\n",
    "    #   {\"role\": \"user\", \"content\":prompt}\n",
    "       {\"role\": \"user\", \"content\":\"Compose a poem that explains the concept of recursion in programming.\"\n",
    "       }\n",
    "        ],\n",
    "        model=\"gpt-3.5-turbo-1106\",\n",
    "    )\n",
    "# print(response)\n",
    "#  print(response.choices[0].message.content)\n",
    " return response.choices[0].message.content\n",
    "\n",
    "print(chat_completion())"
   ]
  },
  {
   "cell_type": "code",
   "execution_count": null,
   "metadata": {},
   "outputs": [],
   "source": []
  }
 ],
 "metadata": {
  "kernelspec": {
   "display_name": "Python 3",
   "language": "python",
   "name": "python3"
  },
  "language_info": {
   "codemirror_mode": {
    "name": "ipython",
    "version": 3
   },
   "file_extension": ".py",
   "mimetype": "text/x-python",
   "name": "python",
   "nbconvert_exporter": "python",
   "pygments_lexer": "ipython3",
   "version": "3.12.0"
  }
 },
 "nbformat": 4,
 "nbformat_minor": 2
}
